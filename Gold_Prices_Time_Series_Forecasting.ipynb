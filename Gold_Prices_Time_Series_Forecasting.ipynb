{
 "cells": [
  {
   "cell_type": "markdown",
   "id": "235f8349-52f0-42c5-bcd7-c39f555fad59",
   "metadata": {},
   "source": [
    "# Gold Prices Time Series Forecasting"
   ]
  },
  {
   "cell_type": "markdown",
   "id": "f2e3e8e1-476c-4f8b-84e8-defb905c9df2",
   "metadata": {},
   "source": [
    "### IMPORT LIBRARIES"
   ]
  },
  {
   "cell_type": "code",
   "execution_count": null,
   "id": "e953c77a-0c5c-4879-a6e5-c34a947da38c",
   "metadata": {},
   "outputs": [],
   "source": [
    "import pathlib\n",
    "import numpy as np\n",
    "import pandas as pd\n",
    "from statsmodels.graphics.tsaplots import month_plot\n",
    "from pandas.plotting import lag_plot\n",
    "from statsmodels.tsa.seasonal import seasonal_decompose\n",
    "from statsmodels.tsa.stattools import adfuller\n",
    "from statsmodels.tsa.stattools import kpss\n",
    "from statsmodels.graphics.tsaplots import plot_acf\n",
    "from statsmodels.tsa.ar_model import AutoReg\n",
    "from math import sqrt\n",
    "from sklearn.metrics import mean_squared_error\n",
    "from statsmodels.tools.eval_measures import rmse \n",
    "from sklearn.linear_model import LinearRegression\n",
    "from statsmodels.tsa.api import ExponentialSmoothing, SimpleExpSmoothing, Holt\n",
    "from statsmodels.tsa.arima.model import ARIMA\n",
    "from statsmodels.graphics.tsaplots import plot_predict\n",
    "from pmdarima import auto_arima\n",
    "from statsmodels.tsa.statespace.sarimax import SARIMAX \n",
    "import seaborn as sns\n",
    "from matplotlib import pyplot as plt\n",
    "from datetime import date, datetime\n",
    "%matplotlib inline\n",
    "\n",
    "# Ignore harmless warnings \n",
    "import warnings \n",
    "warnings.filterwarnings(\"ignore\")"
   ]
  },
  {
   "cell_type": "markdown",
   "id": "66bd3249-21a5-4204-9b21-d4b7cab542f3",
   "metadata": {},
   "source": [
    "### LOAD DATA"
   ]
  },
  {
   "cell_type": "code",
   "execution_count": null,
   "id": "58378d9a-dbd2-4f9c-98c1-243782f973b8",
   "metadata": {},
   "outputs": [],
   "source": [
    "FILE_PATH = pathlib.Path.cwd().joinpath('annual_gold_prices.csv')\n",
    "df = pd.read_csv(FILE_PATH)"
   ]
  },
  {
   "cell_type": "markdown",
   "id": "eaa38a5e-03e6-4640-80fa-3228bb08d876",
   "metadata": {},
   "source": [
    "### DESCRIPTIVE OVERVIEW OF THE DATAFRAME"
   ]
  },
  {
   "cell_type": "code",
   "execution_count": null,
   "id": "5e90daf9-a791-467d-97c0-1ed870c9ebaf",
   "metadata": {},
   "outputs": [],
   "source": [
    "print(\"----------------------------------DATAFRAME INFO----------------------------------\")\n",
    "print(df.info())\n",
    "print(\"----------------------------------------------------------------------------------\")\n",
    "print(\"\\n\" + \"\\n\" + \"----------------------------------DATAFRAME HEAD----------------------------------\")\n",
    "print(df.head())\n",
    "print(\"----------------------------------------------------------------------------------\")\n",
    "print(\"\\n\" + \"\\n\" + \"----------------------------------DATAFRAME DESCIPTION----------------------------------\")\n",
    "print(df.describe())\n",
    "print(\"----------------------------------------------------------------------------------\")\n",
    "print(\"\\n\" + \"\\n\" + \"----------------------------------DATAFRAME SHAPE----------------------------------\")\n",
    "print(df.shape)\n",
    "print(\"----------------------------------------------------------------------------------\")"
   ]
  },
  {
   "cell_type": "markdown",
   "id": "54f99f98-0a85-4be1-9e19-67e45f10a21a",
   "metadata": {},
   "source": [
    "### PRE-PROCESSING"
   ]
  },
  {
   "cell_type": "code",
   "execution_count": null,
   "id": "d9aef5ee-965b-470c-b035-4c0b62d6bcfe",
   "metadata": {},
   "outputs": [],
   "source": [
    "df.columns = [col.strip().replace(' ', '_').lower() for col in df.columns]"
   ]
  },
  {
   "cell_type": "code",
   "execution_count": null,
   "id": "b42ff942-cdc7-4f80-a457-e22ea7ed0394",
   "metadata": {},
   "outputs": [],
   "source": [
    "df_column_names = list(df.columns.values)\n",
    "print(df_column_names)"
   ]
  },
  {
   "cell_type": "code",
   "execution_count": null,
   "id": "9bf629ee-94f9-4b1f-a949-1b6b12295d19",
   "metadata": {},
   "outputs": [],
   "source": [
    "for col in df.columns:\n",
    "    print(\"-------------------------START----------------------------------------\")\n",
    "    #print(col)\n",
    "    print(df[col].value_counts())\n",
    "    print(\"--------------------------END-----------------------------------------\" + \"\\n\" + \"\\n\")"
   ]
  },
  {
   "cell_type": "markdown",
   "id": "296a31d8-e0d2-47f8-b23a-081a911b85ba",
   "metadata": {},
   "source": [
    "### CHECK IF ANY COLUMN HAS MISSING DATA"
   ]
  },
  {
   "cell_type": "code",
   "execution_count": null,
   "id": "54926c96-f77b-4af8-b5e7-4ef9248dc720",
   "metadata": {},
   "outputs": [],
   "source": [
    "#CHECK IF ANY COLUMN HAS MISSING DATA\n",
    "not_null_df = df.isnull()\n",
    "print(not_null_df)\n",
    "\n",
    "df.isnull().sum()"
   ]
  },
  {
   "cell_type": "markdown",
   "id": "ea1cdc87-7c9d-414e-8451-6044c928dc8e",
   "metadata": {},
   "source": [
    "### CHECK AND HANDLE DUPLICATES IF ANY"
   ]
  },
  {
   "cell_type": "code",
   "execution_count": null,
   "id": "8f8d617d-ea0a-4f7b-bc9b-0c995365634d",
   "metadata": {},
   "outputs": [],
   "source": [
    "#CHECK AND HANDLE DUPLICATES IF ANY\n",
    "if_duplicate = df[df.duplicated(keep='last')]\n",
    "if_duplicate.shape\n",
    "\n",
    "## CLASS DISTRIBUTION WITH AND WITHOUT DUPLICATES\n",
    "#print(\"WITH DUPLICATES : \", df.shape)\n",
    "#df.drop_duplicates(inplace=True)\n",
    "#print(\"WITHOUT DUPLICATES : \", df.shape)"
   ]
  },
  {
   "cell_type": "markdown",
   "id": "380fc54f-f1a4-427a-a2b0-689a2ef2c2ef",
   "metadata": {},
   "source": [
    "### SHOW ALL ROWS"
   ]
  },
  {
   "cell_type": "code",
   "execution_count": null,
   "id": "3ce43bb7-feb7-4d8e-8423-02077c43d561",
   "metadata": {},
   "outputs": [],
   "source": [
    "pd.set_option(\"display.max_rows\",None)"
   ]
  },
  {
   "cell_type": "code",
   "execution_count": null,
   "id": "3260b974-ed9d-4417-a644-d0f88015d1ee",
   "metadata": {
    "scrolled": true
   },
   "outputs": [],
   "source": [
    "df"
   ]
  },
  {
   "cell_type": "code",
   "execution_count": null,
   "id": "ac86e9d7-ef00-4e66-88b8-7e7790156b93",
   "metadata": {
    "scrolled": true
   },
   "outputs": [],
   "source": [
    "print(df.date)"
   ]
  },
  {
   "cell_type": "code",
   "execution_count": null,
   "id": "0a2346f3-1d15-4b71-bb30-d2d5dbf77165",
   "metadata": {
    "scrolled": true
   },
   "outputs": [],
   "source": [
    "print(df.price)"
   ]
  },
  {
   "cell_type": "markdown",
   "id": "11fcd34c-8fa7-48ff-ba8c-f0d6ea058a35",
   "metadata": {},
   "source": [
    "### RESET TO SHOW DEFAULT NUMBER OF ROWS"
   ]
  },
  {
   "cell_type": "code",
   "execution_count": null,
   "id": "00563b3b-f782-4147-b597-5adb6265287b",
   "metadata": {},
   "outputs": [],
   "source": [
    "pd.reset_option(\"display.max_rows\")"
   ]
  },
  {
   "cell_type": "markdown",
   "id": "3d18ca9b-459c-467c-8176-087102d5208d",
   "metadata": {},
   "source": [
    "### EXPLORATORY DATA ANALYSIS"
   ]
  },
  {
   "cell_type": "markdown",
   "id": "8b4bb0f2-829d-4f77-83b1-feb0588e9442",
   "metadata": {},
   "source": [
    "#### UNDERSTANDING THE DATA"
   ]
  },
  {
   "cell_type": "code",
   "execution_count": null,
   "id": "b9d2da54-e284-4e7c-9523-5433ded38e5c",
   "metadata": {},
   "outputs": [],
   "source": [
    "print(f\"DATE RANGE OF GOLD PRICES STARTS FROM - {df.loc[:, 'date'][0]} TO {df.loc[:,'date'][len(df)-1]}\")"
   ]
  },
  {
   "cell_type": "code",
   "execution_count": null,
   "id": "612d9fbb-9a75-4ee5-83f7-6a37bf6d40f3",
   "metadata": {},
   "outputs": [],
   "source": [
    "date = pd.date_range(start='12/1950', end='12/2020', freq='Y')\n",
    "#date = pd.date_range(start='1/1/1950', end='8/1/2020', freq='M')\n",
    "date"
   ]
  },
  {
   "cell_type": "code",
   "execution_count": null,
   "id": "66d0c055-296c-4cb6-b047-bfddd82f90f8",
   "metadata": {},
   "outputs": [],
   "source": [
    "len(date)"
   ]
  },
  {
   "cell_type": "code",
   "execution_count": null,
   "id": "09345978-5165-434a-9aa5-bca8ff8baab3",
   "metadata": {},
   "outputs": [],
   "source": [
    "df['month'] = date\n",
    "df.drop('date', axis=1, inplace=True)\n",
    "df = df.set_index('month')\n",
    "df.head()"
   ]
  },
  {
   "cell_type": "code",
   "execution_count": null,
   "id": "36e4bc37-8dbf-4806-9285-9b6ed8f5902c",
   "metadata": {},
   "outputs": [],
   "source": [
    "df.plot(figsize=(15, 8))\n",
    "plt.title(\"Annual Gold Prices since 1950\")\n",
    "plt.xlabel(\"Month\")\n",
    "plt.ylabel(\"Price\")\n",
    "copyright = \"\\u00A9\" + \" \" + str(datetime.today().year) + \" \" + \"JM Consulting\"\n",
    "plt.text(0.5, 0.5, copyright, alpha=0.3, fontsize=25, rotation=25, ha='center', va='center', transform=plt.gca().transAxes)\n",
    "plt.show()"
   ]
  },
  {
   "cell_type": "code",
   "execution_count": null,
   "id": "cdabfffc-eb79-4fe8-9585-e7dd53c2f2ee",
   "metadata": {},
   "outputs": [],
   "source": [
    "round(df.describe(), 3)"
   ]
  },
  {
   "cell_type": "markdown",
   "id": "e494065e-94e2-47c1-a735-b20095b5cd75",
   "metadata": {},
   "source": [
    "### Inference\n",
    "#### 1. The Average gold price for the last 60 Years is $412.78\n",
    "\n",
    "#### 2. Only 25% of the time, the gold is above $458.94\n",
    "\n",
    "#### 3. Highest Gold price during this time was $1687.34"
   ]
  },
  {
   "cell_type": "markdown",
   "id": "f8798a16-4784-4faf-a411-520c001a4011",
   "metadata": {},
   "source": [
    "#### VISUAL ANALYSIS"
   ]
  },
  {
   "cell_type": "code",
   "execution_count": null,
   "id": "1117302f-aea4-4ab0-bc68-6f5aad185d26",
   "metadata": {},
   "outputs": [],
   "source": [
    "_, ax = plt.subplots(figsize=(14, 7))\n",
    "sns.boxplot(x = df.index.year,y = df.values[:,0], ax=ax)\n",
    "#sns.boxplot(x=df.values[:,0], y=df.price , ax=ax)\n",
    "plt.title(\"Annual Gold Prices since 1950\")\n",
    "plt.xlabel(\"Year\")\n",
    "plt.ylabel(\"Price\")\n",
    "plt.xticks(rotation=90)\n",
    "plt.grid()\n",
    "copyright = \"\\u00A9\" + \" \" + str(datetime.today().year) + \" \" + \"JM Consulting\"\n",
    "plt.text(0.5, 0.5, copyright, alpha=0.3, fontsize=25, rotation=25, ha='center', va='center', transform=plt.gca().transAxes)\n",
    "plt.show()"
   ]
  },
  {
   "cell_type": "code",
   "execution_count": null,
   "id": "c29ac76c-9467-4409-b197-fcb27ab41250",
   "metadata": {},
   "outputs": [],
   "source": [
    "df"
   ]
  },
  {
   "cell_type": "code",
   "execution_count": null,
   "id": "ac443578-2cb1-4834-a3a8-71e179e73bdc",
   "metadata": {},
   "outputs": [],
   "source": [
    "print(df.price)"
   ]
  },
  {
   "cell_type": "code",
   "execution_count": null,
   "id": "1a9cd558-fb5a-4df8-8563-8fc47d41a198",
   "metadata": {},
   "outputs": [],
   "source": [
    "print(\"---------------------------------YEARS-----------------------------------\")\n",
    "print(df.index.year)\n",
    "print(\"\\n\" + \"------------------------------------------------------------------\")\n",
    "print(\"---------------------------------MONTHS----------------------------------\")\n",
    "print(df.index.month)\n",
    "print(\"\\n\" + \"------------------------------------------------------------------\")\n",
    "print(\"---------------------------------MONTH NAME -----------------------------\")\n",
    "print(df.index.month_name())\n",
    "print(\"\\n\" + \"------------------------------------------------------------------\")\n",
    "print(\"---------------------------------PRICES---------------------------------\")\n",
    "print(df.values[:,0])\n",
    "print(\"-------------------------------------------------------------------------\")"
   ]
  },
  {
   "cell_type": "markdown",
   "id": "5a5180f3-2ac7-45c4-8fc9-0853e1d5b8fd",
   "metadata": {},
   "source": [
    "#### ANNUAL AVERAGE"
   ]
  },
  {
   "cell_type": "code",
   "execution_count": null,
   "id": "c0e5b1c7-5d08-44df-a7e4-2fa3e84b8f7c",
   "metadata": {},
   "outputs": [],
   "source": [
    "# Average gold price per year trend since 1950\n",
    "Yearly_Sum_df = df.resample('A').mean()\n",
    "Yearly_Sum_df.plot();\n",
    "plt.title(\"Average Gold price (Yearly) since 1950\")\n",
    "plt.xlabel(\"Year\")\n",
    "plt.ylabel(\"Price\")\n",
    "plt.grid()\n",
    "copyright = \"\\u00A9\" + \" \" + str(datetime.today().year) + \" \" + \"JM Consulting\"\n",
    "plt.text(0.5, 0.5, copyright, alpha=0.3, fontsize=25, rotation=25, ha='center', va='center', transform=plt.gca().transAxes)\n",
    "plt.show()"
   ]
  },
  {
   "cell_type": "markdown",
   "id": "55a78728-30dc-491b-9812-d634acbb4cc2",
   "metadata": {},
   "source": [
    "#### PER DECADE AVERAGE"
   ]
  },
  {
   "cell_type": "code",
   "execution_count": null,
   "id": "2f872769-5ab9-439f-8b14-1d52db45f6fb",
   "metadata": {},
   "outputs": [],
   "source": [
    "# Average gold price per decade trend since 1950\n",
    "Decade_Sum_df = df.resample('10Y').mean()\n",
    "Decade_Sum_df.plot();\n",
    "plt.title(\"Average Gold price (Decade) since 1950\")\n",
    "plt.xlabel(\"Decade\")\n",
    "plt.ylabel(\"Price\")\n",
    "plt.grid()\n",
    "copyright = \"\\u00A9\" + \" \" + str(datetime.today().year) + \" \" + \"JM Consulting\"\n",
    "plt.text(0.5, 0.5, copyright, alpha=0.3, fontsize=25, rotation=25, ha='center', va='center', transform=plt.gca().transAxes)\n",
    "plt.show()"
   ]
  },
  {
   "cell_type": "code",
   "execution_count": null,
   "id": "fdda7a85-58a3-494b-9487-6b062f707dad",
   "metadata": {},
   "outputs": [],
   "source": [
    "df"
   ]
  },
  {
   "cell_type": "markdown",
   "id": "f74d4221-7e17-4bd7-95d2-97164b81bb1b",
   "metadata": {},
   "source": [
    "#### TIME SERIES ANALYSIS"
   ]
  },
  {
   "cell_type": "markdown",
   "id": "7700c15c-8626-432b-92a6-2203eb736fc7",
   "metadata": {},
   "source": [
    "#### CHECK WHETHER THE DATA SET OR TIME SERIES IS RANDOM OR NOT"
   ]
  },
  {
   "cell_type": "code",
   "execution_count": null,
   "id": "b29aa4bb-dfa9-409d-9bd3-5a5a9ce8dd9b",
   "metadata": {},
   "outputs": [],
   "source": [
    "#CHECK WHETHER THE DATA SET OR TIME SERIES IS RANDOM OR NOT\n",
    "lag_plot(df)\n",
    "copyright = \"\\u00A9\" + \" \" + str(datetime.today().year) + \" \" + \"JM Consulting\"\n",
    "plt.text(0.5, 0.5, copyright, alpha=0.3, fontsize=15, rotation=0, ha='center', va='center', transform=plt.gca().transAxes)\n",
    "plt.show()"
   ]
  },
  {
   "cell_type": "code",
   "execution_count": null,
   "id": "e396de11-8a55-4be1-a823-2a0cb381bf4d",
   "metadata": {},
   "outputs": [],
   "source": [
    "fig, axes = plt.subplots(figsize=(10,7))\n",
    "plt.plot(df[\"price\"])\n",
    "plt.title('Randomness')\n",
    "copyright = \"\\u00A9\" + \" \" + str(datetime.today().year) + \" \" + \"JM Consulting\"\n",
    "plt.text(0.5, 0.5, copyright, alpha=0.3, fontsize=25, rotation=25, ha='center', va='center', transform=plt.gca().transAxes)\n",
    "plt.show()"
   ]
  },
  {
   "cell_type": "markdown",
   "id": "48dee563-4521-43f6-b62d-6640f5ac8766",
   "metadata": {},
   "source": [
    "#### IDENTIFY THE COMPONENTS IN THE GIVEN DATASET"
   ]
  },
  {
   "cell_type": "code",
   "execution_count": null,
   "id": "286635d2-ce7b-4cb2-b8ab-3e05745b786a",
   "metadata": {},
   "outputs": [],
   "source": [
    "result = seasonal_decompose(df[\"price\"], model='multiplicative', period=12)\n",
    "trend = result.trend.dropna()\n",
    "seasonal = result.seasonal.dropna()\n",
    "residual = result.resid.dropna()\n",
    " \n",
    "# Plot the decomposed components\n",
    "# Create figure\n",
    "fig, (ax1,ax2, ax3, ax4) = plt.subplots(nrows=4, ncols=1, figsize = (6,7), tight_layout = True)\n",
    "\n",
    "# Add subplots\n",
    "ax1.plot(df[\"price\"])\n",
    "ax2.plot(trend)\n",
    "ax3.plot(seasonal)\n",
    "ax4.plot(residual)\n",
    "\n",
    "# Add Labels for subplots\n",
    "def get_axis_limits(ax, scale=.82):\n",
    "    return ax.get_xlim()[1]*scale, ax.get_ylim()[1]*scale\n",
    "\n",
    "ax1.annotate('Original Series', xy=get_axis_limits(ax1))\n",
    "ax2.annotate('Trend', xy=get_axis_limits(ax2))\n",
    "ax3.annotate('Seasonal', xy=get_axis_limits(ax3))\n",
    "ax4.annotate('Residuals', xy=get_axis_limits(ax4))\n",
    "\n",
    "# Show texts\n",
    "copyright = \"\\u00A9\" + \" \" + str(datetime.today().year) + \" \" + \"JM Consulting\"\n",
    "plt.text(0.5, 0.5, copyright, alpha=0.3, fontsize=15, rotation=5, ha='center', va='center', transform=plt.gca().transAxes)\n",
    "ax1.text(0.5, 0.5, copyright, alpha=0.3, fontsize=15, rotation=5, ha='center', va='center', transform=ax1.transAxes)\n",
    "ax2.text(0.5, 0.5, copyright, alpha=0.3, fontsize=15, rotation=5, ha='center', va='center', transform=ax2.transAxes)\n",
    "ax3.text(0.5, 0.5, copyright, alpha=0.3, fontsize=15, rotation=0, ha='center', va='center', transform=ax3.transAxes)\n",
    "ax4.text(0.5, 0.5, copyright, alpha=0.3, fontsize=15, rotation=0, ha='center', va='center', transform=ax4.transAxes)\n",
    "plt.show()"
   ]
  },
  {
   "cell_type": "markdown",
   "id": "7b42bcf0-40e3-43bd-9994-4a221b2df8fa",
   "metadata": {},
   "source": [
    "#### TEST FOR STATIONARITY"
   ]
  },
  {
   "cell_type": "code",
   "execution_count": null,
   "id": "38ad05a8-acba-4340-9c80-c820a938399d",
   "metadata": {},
   "outputs": [],
   "source": [
    "df[\"price\"]"
   ]
  },
  {
   "cell_type": "markdown",
   "id": "248c3ba6-9c77-450b-8fb8-2165b7ef724a",
   "metadata": {},
   "source": [
    "#### AUGMENTED DICKEY FULLER - ADF Test FOR STATIONARITY"
   ]
  },
  {
   "cell_type": "code",
   "execution_count": null,
   "id": "f7f0f0ee-0ee2-44a5-8f8f-5207d6a6a99d",
   "metadata": {},
   "outputs": [],
   "source": [
    "adfuller_result = adfuller(df[\"price\"], autolag='AIC')\n",
    "print(\"----------------------------------ADAFULLER RESULTS----------------------------------\")\n",
    "print(f'ADF Statistic: {adfuller_result[0]}')\n",
    "print(f'n_lags: {adfuller_result[2]}')\n",
    "print(f'p-value: {adfuller_result[1]}')\n",
    "for key, value in adfuller_result[4].items():\n",
    "    print('Critial Values:')\n",
    "    print(f'   {key}, {value}')\n",
    "print(f'Result: The series is {\"not \" if adfuller_result[1] < 0.05 else \"\"}stationary')\n",
    "print(\"-------------------------------------------------------------------------------------\")"
   ]
  },
  {
   "cell_type": "markdown",
   "id": "f4cbfaaf-c096-4030-890a-266538b752fc",
   "metadata": {},
   "source": [
    "#### KWIATOWSKI-PHILLIPS-SCHMIDT-SHIN - KPSS test around a deterministic trend"
   ]
  },
  {
   "cell_type": "code",
   "execution_count": null,
   "id": "c822ac22-c0e2-453f-9541-90baa430d851",
   "metadata": {},
   "outputs": [],
   "source": [
    "def kpss_test(series, **kw):    \n",
    "    statistic, p_value, n_lags, critical_values = kpss(series, **kw)\n",
    "    # Format Output\n",
    "    print(\"----------------------------------KPSS RESULTS----------------------------------\")\n",
    "    print(f'KPSS Statistic: {statistic}')\n",
    "    print(f'p-value: {p_value}')\n",
    "    print(f'num lags: {n_lags}')\n",
    "    print('Critial Values:')\n",
    "    for key, value in critical_values.items():\n",
    "        print(f'   {key} : {value}')\n",
    "    print(f'Result: The series is {\"not \" if p_value < 0.05 else \"\"}stationary')\n",
    "    print(\"--------------------------------------------------------------------------------\")\n",
    "    \n",
    "kpss_test(df[\"price\"].dropna(), regression='ct')"
   ]
  },
  {
   "cell_type": "markdown",
   "id": "bcac521b-1db4-4506-a12f-c5ee025b9acf",
   "metadata": {},
   "source": [
    "#### AUTO CORRELATION"
   ]
  },
  {
   "cell_type": "code",
   "execution_count": null,
   "id": "baaf006c-8dc6-471d-bcc2-2e9bf68bdf40",
   "metadata": {},
   "outputs": [],
   "source": [
    "#AUTO CORRELATION\n",
    "plot_acf(df[\"price\"].dropna())\n",
    "plt.show()"
   ]
  },
  {
   "cell_type": "markdown",
   "id": "cdd2f086-4cae-46d1-afd6-7e29aad7351d",
   "metadata": {},
   "source": [
    "#### PARTIAL AUTO CORRELATYION"
   ]
  },
  {
   "cell_type": "code",
   "execution_count": null,
   "id": "4576b857-6bcc-4212-a167-cbe800742e10",
   "metadata": {},
   "outputs": [],
   "source": [
    "#PARTIAL AUTO CORRELATYION\n",
    "plot_acf(df[\"price\"].dropna(), lags=30)\n",
    "plt.show()"
   ]
  },
  {
   "cell_type": "markdown",
   "id": "631188e1-8a72-4a09-94d2-632b5ccc7593",
   "metadata": {},
   "source": [
    "#### TIME SERIES FORECASTING - MODELS"
   ]
  },
  {
   "cell_type": "markdown",
   "id": "8b33cdd2-46b7-4bfb-ad08-0176f0245bc1",
   "metadata": {},
   "source": [
    "#### CREATE TRAIN TEST SPLIT"
   ]
  },
  {
   "cell_type": "code",
   "execution_count": null,
   "id": "c8cbb74d-ab45-4135-9b24-1e9d291d951f",
   "metadata": {},
   "outputs": [],
   "source": [
    "train = df[df.index.year <= 2015] \n",
    "test = df[df.index.year > 2015]\n",
    "\n",
    "print(train.shape)\n",
    "print(test.shape)"
   ]
  },
  {
   "cell_type": "code",
   "execution_count": null,
   "id": "925333c9-a84a-4a6e-b715-afd09d39f442",
   "metadata": {},
   "outputs": [],
   "source": [
    "train['price'].plot(figsize=(13,5), fontsize=14)\n",
    "test['price'].plot(figsize=(13,5), fontsize=14)\n",
    "plt.legend(['Training Data','Test Data'])\n",
    "copyright = \"\\u00A9\" + \" \" + str(datetime.today().year) + \" \" + \"JM Consulting\"\n",
    "plt.text(0.5, 0.5, copyright, alpha=0.3, fontsize=25, rotation=25, ha='center', va='center', transform=plt.gca().transAxes)\n",
    "plt.show()"
   ]
  },
  {
   "cell_type": "markdown",
   "id": "2a08330f-c525-4755-bb3a-08b08140adc8",
   "metadata": {},
   "source": [
    "#### LINEAR REGRESSION"
   ]
  },
  {
   "cell_type": "code",
   "execution_count": null,
   "id": "b48436ea-ba8e-416f-bd77-937c2ff13ea4",
   "metadata": {},
   "outputs": [],
   "source": [
    "train_time = [i+1 for i in range(len(train))]\n",
    "test_time = [i+len(train)+1 for i in range(len(test))]\n",
    "len(train_time), len(test_time)"
   ]
  },
  {
   "cell_type": "code",
   "execution_count": null,
   "id": "1c95c2e6-ec01-4c99-9316-4ea67efaf003",
   "metadata": {},
   "outputs": [],
   "source": [
    "Linear_Regression_train = train.copy()\n",
    "Linear_Regression_test = test.copy()\n",
    "\n",
    "Linear_Regression_train['time'] = train_time\n",
    "Linear_Regression_test['time'] = test_time\n",
    "\n",
    "Linear_Regression_Model = LinearRegression()\n",
    "Linear_Regression_Model.fit(Linear_Regression_train[['time']],Linear_Regression_train['price'].values)\n",
    "\n",
    "Linear_Regression_test_predictions  = Linear_Regression_Model.predict(Linear_Regression_test[['time']])\n",
    "Linear_Regression_test['forecast'] = Linear_Regression_test_predictions\n",
    "\n",
    "plt.figure(figsize=(13,6))\n",
    "plt.plot( train['price'], label='Train')\n",
    "plt.plot(test['price'], label='Test')\n",
    "plt.plot(Linear_Regression_test['forecast'], label='Regression On Time_Test Data')\n",
    "plt.legend(loc='best')\n",
    "plt.grid()\n",
    "plt.title(\"Linear Rgeression Model Forecast\")\n",
    "copyright = \"\\u00A9\" + \" \" + str(datetime.today().year) + \" \" + \"JM Consulting\"\n",
    "plt.text(0.5, 0.5, copyright, alpha=0.3, fontsize=25, rotation=25, ha='center', va='center', transform=plt.gca().transAxes)\n",
    "plt.show()"
   ]
  },
  {
   "cell_type": "markdown",
   "id": "fb10087b-d6ce-4a43-9721-8ba677aab2cb",
   "metadata": {},
   "source": [
    "#### Mean absolute percentage error - MAPE\n",
    "#### MAPE is a metric that defines the accuracy of a forecasting method. \n",
    "#### It represents the average of the absolute percentage errors of each entry in a dataset.\n",
    "#### A MAPE less than 5% is considered as an indication that the forecast is acceptably accurate. \n",
    "#### A MAPE greater than 10% but less than 25% indicates low, but acceptable accuracy and \n",
    "#### MAPE greater than 25% very low accuracy."
   ]
  },
  {
   "cell_type": "code",
   "execution_count": null,
   "id": "46625521-1247-4ac0-8b0c-8fd73a92bda1",
   "metadata": {},
   "outputs": [],
   "source": [
    "def mape(actual,pred):\n",
    "    return round((np.mean(abs(actual-pred)/actual))*100,2)"
   ]
  },
  {
   "cell_type": "code",
   "execution_count": null,
   "id": "a2df54da-af32-4234-8313-7803c7aefa95",
   "metadata": {},
   "outputs": [],
   "source": [
    "# Get MAPE of the model\n",
    "\n",
    "mape_Linear_Regression_test = mape(test['price'].values,Linear_Regression_test_predictions)\n",
    "print(\"For the Linear Regression On Time forecast on the Test Data,  MAPE is %3.3f\" %(mape_Linear_Regression_test),\"%\")"
   ]
  },
  {
   "cell_type": "code",
   "execution_count": null,
   "id": "2ac4967e-e79a-4a4c-b258-c2d8234cde57",
   "metadata": {},
   "outputs": [],
   "source": [
    "results = pd.DataFrame({'Test MAPE (%)': [mape_Linear_Regression_test]},index=['Linear Regression On Time'])\n",
    "results"
   ]
  },
  {
   "cell_type": "markdown",
   "id": "f88ece22-d9bd-44ba-8dc6-617166df0d9d",
   "metadata": {},
   "source": [
    "#### NAIVE "
   ]
  },
  {
   "cell_type": "code",
   "execution_count": null,
   "id": "0a09e81a-e173-4ecd-9091-d7f07244be9c",
   "metadata": {},
   "outputs": [],
   "source": [
    "Naive_train = train.copy()\n",
    "Naive_test = test.copy()\n",
    "\n",
    "Naive_test['naive'] = np.asarray(train['price'])[len(np.asarray(train['price']))-1]\n",
    "Naive_test['naive'].head()"
   ]
  },
  {
   "cell_type": "code",
   "execution_count": null,
   "id": "beb13f52-d1a9-405e-bf9c-610c6eb61196",
   "metadata": {},
   "outputs": [],
   "source": [
    "plt.figure(figsize=(12,8))\n",
    "plt.plot(Naive_train['price'], label='Train')\n",
    "plt.plot(test['price'], label='Test')\n",
    "plt.plot(Naive_test['naive'], label='Naive Forecast on Test Data')\n",
    "plt.legend(loc='best')\n",
    "plt.title(\"Naive Forecast\")\n",
    "plt.grid()\n",
    "copyright = \"\\u00A9\" + \" \" + str(datetime.today().year) + \" \" + \"JM Consulting\"\n",
    "plt.text(0.5, 0.5, copyright, alpha=0.3, fontsize=25, rotation=25, ha='center', va='center', transform=plt.gca().transAxes)\n",
    "plt.show()"
   ]
  },
  {
   "cell_type": "code",
   "execution_count": null,
   "id": "c1e42f02-d042-4f3c-845b-24f8b36b2485",
   "metadata": {},
   "outputs": [],
   "source": [
    "# Get MAPE of the model\n",
    "\n",
    "mape_naive_test = mape(test['price'].values,Naive_test['naive'].values)\n",
    "print(\"For the Naive forecast on the Test Data,  MAPE is %3.3f\" %(mape_naive_test),\"%\")"
   ]
  },
  {
   "cell_type": "code",
   "execution_count": null,
   "id": "a09712a5-a627-4ecf-8597-8670d3dde926",
   "metadata": {},
   "outputs": [],
   "source": [
    "resultsDf_2 = pd.DataFrame({'Test MAPE (%)': [mape_naive_test]},index=['Naive Model'])\n",
    "\n",
    "results = pd.concat([results, resultsDf_2])\n",
    "results"
   ]
  },
  {
   "cell_type": "markdown",
   "id": "45cae004-4173-4d27-9a1e-e60f839eef07",
   "metadata": {},
   "source": [
    "#### SIMPLE MOVING AVERAGE"
   ]
  },
  {
   "cell_type": "code",
   "execution_count": null,
   "id": "7d4ed0ce-5e8e-434a-a555-af16e8d84c29",
   "metadata": {},
   "outputs": [],
   "source": [
    "SimpleAvg_train = train.copy()\n",
    "SimpleAvg_test = test.copy()\n",
    "SimpleAvg_test['mean_forecast'] = train['price'].mean()\n",
    "SimpleAvg_test.head()"
   ]
  },
  {
   "cell_type": "code",
   "execution_count": null,
   "id": "826e51a3-481d-4790-9bbe-7f88b0e8f77c",
   "metadata": {},
   "outputs": [],
   "source": [
    "plt.figure(figsize=(12,8))\n",
    "plt.plot(SimpleAvg_train['price'], label='Train')\n",
    "plt.plot(SimpleAvg_test['price'], label='Test')\n",
    "plt.plot(SimpleAvg_test['mean_forecast'], label='Simple Average on Test Data')\n",
    "plt.legend(loc='best')\n",
    "plt.title(\"Simple Moving Average Forecast\")\n",
    "plt.grid()\n",
    "copyright = \"\\u00A9\" + \" \" + str(datetime.today().year) + \" \" + \"JM Consulting\"\n",
    "plt.text(0.5, 0.5, copyright, alpha=0.3, fontsize=25, rotation=25, ha='center', va='center', transform=plt.gca().transAxes)\n",
    "plt.show()"
   ]
  },
  {
   "cell_type": "code",
   "execution_count": null,
   "id": "ead16f4f-aed8-41cd-bd9a-28a9419d4c1e",
   "metadata": {},
   "outputs": [],
   "source": [
    "## Test Data - MAPE\n",
    "\n",
    "mape_simple_average_test = mape(test['price'].values,SimpleAvg_test['mean_forecast'].values)\n",
    "print(\"For the Simple Average forecast on the Test Data,  MAPE is %3.3f\" %(mape_simple_average_test),\"%\")"
   ]
  },
  {
   "cell_type": "code",
   "execution_count": null,
   "id": "32a0424e-a34a-458c-88ce-c7d02fc7eb91",
   "metadata": {},
   "outputs": [],
   "source": [
    "resultsDf_3 = pd.DataFrame({'Test MAPE (%)': [mape_simple_average_test]},index=['Simple Average Model'])\n",
    "\n",
    "results = pd.concat([results, resultsDf_3])\n",
    "results"
   ]
  },
  {
   "cell_type": "markdown",
   "id": "68a703f6-2906-412a-9314-c06e3df81567",
   "metadata": {},
   "source": [
    "#### MOVING AVERAGE"
   ]
  },
  {
   "cell_type": "code",
   "execution_count": null,
   "id": "642499dc-51eb-4e80-9a08-94603c42d364",
   "metadata": {},
   "outputs": [],
   "source": [
    "Mvg_Avg = df.copy()\n",
    "Mvg_Avg['Trailing_2'] = Mvg_Avg['price'].rolling(2).mean()\n",
    "Mvg_Avg['Trailing_3'] = Mvg_Avg['price'].rolling(3).mean()\n",
    "Mvg_Avg['Trailing_5'] = Mvg_Avg['price'].rolling(5).mean()\n",
    "Mvg_Avg['Trailing_7'] = Mvg_Avg['price'].rolling(7).mean()\n",
    "Mvg_Avg.head()"
   ]
  },
  {
   "cell_type": "code",
   "execution_count": null,
   "id": "60e52982-b3fa-401b-ae97-da72e23f6e8d",
   "metadata": {},
   "outputs": [],
   "source": [
    "## Plotting on the whole data\n",
    "\n",
    "plt.figure(figsize=(16,8))\n",
    "plt.plot(Mvg_Avg['price'], label='Train')\n",
    "plt.plot(Mvg_Avg['Trailing_2'],label='2 Point Moving Average')\n",
    "plt.plot(Mvg_Avg['Trailing_3'],label='3 Point Moving Average')\n",
    "plt.plot(Mvg_Avg['Trailing_5'],label = '5 Point Moving Average')\n",
    "plt.plot(Mvg_Avg['Trailing_7'],label = '7 Point Moving Average')\n",
    "plt.title(\"Moving Average Forecast\")\n",
    "plt.legend(loc = 'best')\n",
    "plt.grid()\n",
    "copyright = \"\\u00A9\" + \" \" + str(datetime.today().year) + \" \" + \"JM Consulting\"\n",
    "plt.text(0.5, 0.5, copyright, alpha=0.3, fontsize=25, rotation=25, ha='center', va='center', transform=plt.gca().transAxes)\n",
    "plt.show()"
   ]
  },
  {
   "cell_type": "markdown",
   "id": "6146daab-d1d7-4109-a412-ca1b61e14f18",
   "metadata": {},
   "source": [
    "#### TRAILING MOVING AVERAGE"
   ]
  },
  {
   "cell_type": "code",
   "execution_count": null,
   "id": "8b399a8f-0e9f-426b-b54e-b02264dfb5b8",
   "metadata": {},
   "outputs": [],
   "source": [
    "#Creating train and test set \n",
    "trailing_Mvg_Avg_train=Mvg_Avg[Mvg_Avg.index.year <= 2015] \n",
    "trailing_Mvg_Avg_test=Mvg_Avg[Mvg_Avg.index.year > 2015]"
   ]
  },
  {
   "cell_type": "code",
   "execution_count": null,
   "id": "7b24273c-56d9-4fae-a1e6-9b3d1719c516",
   "metadata": {},
   "outputs": [],
   "source": [
    "## Plotting on both the Training and Test data\n",
    "\n",
    "plt.figure(figsize=(16,8))\n",
    "plt.plot(trailing_Mvg_Avg_train['price'], label='Train')\n",
    "plt.plot(trailing_Mvg_Avg_test['price'], label='Test')\n",
    "\n",
    "plt.plot(trailing_Mvg_Avg_train['Trailing_2'],label='2 Point Trailing Moving Average on Training Set')\n",
    "plt.plot(trailing_Mvg_Avg_train['Trailing_3'],label='3 Point Trailing Moving Average on Training Set')\n",
    "plt.plot(trailing_Mvg_Avg_train['Trailing_5'],label = '5 Point Trailing Moving Average on Training Set')\n",
    "plt.plot(trailing_Mvg_Avg_train['Trailing_7'],label = '7 Point Trailing Moving Average on Training Set')\n",
    "\n",
    "plt.plot(trailing_Mvg_Avg_test['Trailing_2'], label='2 Point Trailing Moving Average on Test Set')\n",
    "plt.plot(trailing_Mvg_Avg_test['Trailing_3'], label='3 Point Trailing Moving Average on Test Set')\n",
    "plt.plot(trailing_Mvg_Avg_test['Trailing_5'],label = '5 Point Trailing Moving Average on Test Set')\n",
    "plt.plot(trailing_Mvg_Avg_test['Trailing_7'],label = '7 Point Trailing Moving Average on Test Set')\n",
    "plt.legend(loc = 'best')\n",
    "plt.grid()\n",
    "plt.title(\"Moving Forecast\")\n",
    "copyright = \"\\u00A9\" + \" \" + str(datetime.today().year) + \" \" + \"JM Consulting\"\n",
    "plt.text(0.5, 0.5, copyright, alpha=0.3, fontsize=25, rotation=25, ha='center', va='center', transform=plt.gca().transAxes)\n",
    "plt.show()"
   ]
  },
  {
   "cell_type": "code",
   "execution_count": null,
   "id": "96279aa1-b9d9-4a97-9e7c-0d2e6582e0ba",
   "metadata": {},
   "outputs": [],
   "source": [
    "## Test Data - MAPE --> 2 point Trailing MA\n",
    "\n",
    "mape_moving_average_test_2 = mape(test['price'].values,trailing_Mvg_Avg_test['Trailing_2'].values)\n",
    "print(\"For 2 point Moving Average Model forecast on the Training Data,  MAPE is %3.3f\" %(mape_moving_average_test_2),\"%\")\n",
    "\n",
    "## Test Data - MAPE  --> 3 point Trailing MA\n",
    "\n",
    "mape_moving_average_test_3 = mape(test['price'].values,trailing_Mvg_Avg_test['Trailing_3'].values)\n",
    "print(\"For 3 point Moving Average Model forecast on the Training Data,  MAPE is %3.3f\" %(mape_moving_average_test_3),\"%\")\n",
    "\n",
    "## Test Data - MAPE --> 5 point Trailing MA\n",
    "\n",
    "mape_moving_average_test_5 = mape(test['price'].values,trailing_Mvg_Avg_test['Trailing_5'].values)\n",
    "print(\"For 5 point Moving Average Model forecast on the Training Data,  MAPE is %3.3f\" %(mape_moving_average_test_5),\"%\")\n",
    "\n",
    "## Test Data - MAPE  --> 7 point Trailing MA\n",
    "\n",
    "mape_moving_average_test_7 = mape(test['price'].values,trailing_Mvg_Avg_test['Trailing_7'].values)\n",
    "print(\"For 7 point Moving Average Model forecast on the Training Data,  MAPE is %3.3f \" %(mape_moving_average_test_7),\"%\")"
   ]
  },
  {
   "cell_type": "code",
   "execution_count": null,
   "id": "27ddfa7c-0584-46e1-9db5-56ab58845d76",
   "metadata": {},
   "outputs": [],
   "source": [
    "resultsDf_4 = pd.DataFrame({'Test MAPE (%)': [mape_moving_average_test_2,mape_moving_average_test_3\n",
    "                                          ,mape_moving_average_test_5,mape_moving_average_test_7]}\n",
    "                           ,index=['2 point Trailing Moving Average','3 point Trailing Moving Average'\n",
    "                                   ,'5 point Trailing Moving Average','7 point Trailing Moving Average'])\n",
    "\n",
    "results = pd.concat([results, resultsDf_4])\n",
    "results"
   ]
  },
  {
   "cell_type": "markdown",
   "id": "f6cfe62d-52ea-422f-8513-02259dfd9f8b",
   "metadata": {},
   "source": [
    "#### SIMPLE EXPONENTIAL SMOOTHING"
   ]
  },
  {
   "cell_type": "code",
   "execution_count": null,
   "id": "01896bb4-26ca-4b1f-8a96-442a4aa2f37b",
   "metadata": {},
   "outputs": [],
   "source": [
    "Simple_Exponential_Smoothing_train = train.copy()\n",
    "Simple_Exponential_Smoothing_test = test.copy()\n",
    "\n",
    "model_Simple_Exponential_Smoothing = SimpleExpSmoothing(Simple_Exponential_Smoothing_train['price'])\n",
    "model_Simple_Exponential_Smoothing_autofit = model_Simple_Exponential_Smoothing.fit(optimized=True)\n",
    "\n",
    "model_Simple_Exponential_Smoothing_autofit.params"
   ]
  },
  {
   "cell_type": "code",
   "execution_count": null,
   "id": "d7e61c28-c111-427f-8318-3f3dd71a679f",
   "metadata": {},
   "outputs": [],
   "source": [
    "Simple_Exponential_Smoothing_test['predict'] = model_Simple_Exponential_Smoothing_autofit.forecast(steps=len(test))\n",
    "Simple_Exponential_Smoothing_test.head()"
   ]
  },
  {
   "cell_type": "code",
   "execution_count": null,
   "id": "2b7b9ed5-f3cd-4c03-bb0d-c8beab6d12fb",
   "metadata": {},
   "outputs": [],
   "source": [
    "## Plotting on both the Training and Test data\n",
    "\n",
    "plt.figure(figsize=(16,8))\n",
    "plt.plot(Simple_Exponential_Smoothing_train['price'], label='Train')\n",
    "plt.plot(Simple_Exponential_Smoothing_test['price'], label='Test')\n",
    "\n",
    "plt.plot(Simple_Exponential_Smoothing_test['predict'], label='Alpha = 0.995 Simple Exponential Smoothing predictions on Test Set')\n",
    "\n",
    "plt.legend(loc='best')\n",
    "plt.grid()\n",
    "plt.title('Alpha = 0.995 Simple Exponential Smoothing Forecast')\n",
    "copyright = \"\\u00A9\" + \" \" + str(datetime.today().year) + \" \" + \"JM Consulting\"\n",
    "plt.text(0.5, 0.5, copyright, alpha=0.3, fontsize=25, rotation=25, ha='center', va='center', transform=plt.gca().transAxes)\n",
    "plt.show()"
   ]
  },
  {
   "cell_type": "code",
   "execution_count": null,
   "id": "a0f2ed70-9058-494f-8b2c-91503edb9506",
   "metadata": {},
   "outputs": [],
   "source": [
    "## Test Data\n",
    "\n",
    "mape_simple_moving_Exponential_Smoothing_test_1 = mape(Simple_Exponential_Smoothing_test['price'].values,Simple_Exponential_Smoothing_test['predict'].values)\n",
    "print(\"For Alpha = 0.995 Simple Exponential Smoothing Model forecast on the Test Data, MAPE is %3.3f\" %(mape_simple_moving_Exponential_Smoothing_test_1),\"%\")"
   ]
  },
  {
   "cell_type": "code",
   "execution_count": null,
   "id": "a821401a-a5f5-4231-9adb-a0364e03b436",
   "metadata": {},
   "outputs": [],
   "source": [
    "resultsDf_5 = pd.DataFrame({'Test MAPE (%)': [mape_simple_moving_Exponential_Smoothing_test_1]},index=['Alpha=0.995, Simple Exponential Smoothing'])\n",
    "\n",
    "results = pd.concat([results, resultsDf_5])\n",
    "results"
   ]
  },
  {
   "cell_type": "code",
   "execution_count": null,
   "id": "a4ce075a-da8f-43b8-a927-6a798360278a",
   "metadata": {},
   "outputs": [],
   "source": [
    "resultsDf_6 = pd.DataFrame({'Alpha Values':[],'Train MAPE':[],'Test MAPE': []})\n",
    "\n",
    "for i in np.arange(0.3,1,0.1):\n",
    "    model_Simple_Exponential_Smoothing_alpha_i = model_Simple_Exponential_Smoothing.fit(smoothing_level=i,optimized=False,use_brute=True)\n",
    "    Simple_Exponential_Smoothing_train['predict',i] = model_Simple_Exponential_Smoothing_alpha_i.fittedvalues\n",
    "    Simple_Exponential_Smoothing_test['predict',i] = model_Simple_Exponential_Smoothing_alpha_i.forecast(steps=55)\n",
    "    \n",
    "    mape_model_Simple_Exponential_Smoothing_train_i = mape(Simple_Exponential_Smoothing_train['price'].values,Simple_Exponential_Smoothing_train['predict',i].values)\n",
    "    \n",
    "    mape_model_Simple_Exponential_Smoothing_test_i = mape(Simple_Exponential_Smoothing_test['price'].values,Simple_Exponential_Smoothing_test['predict',i].values)\n",
    "\n",
    "    resultsDf_6 = pd.DataFrame({'Alpha Values':[i],'Train MAPE':[mape_model_Simple_Exponential_Smoothing_train_i] \n",
    "                                      ,'Test MAPE':[mape_model_Simple_Exponential_Smoothing_test_i]})\n",
    "    #resultsDf_6 = resultsDf_6.append({'Alpha Values':i,'Train MAPE':mape_model_Simple_Exponential_Smoothing_train_i \n",
    "     #                                 ,'Test MAPE':mape_model_Simple_Exponential_Smoothing_test_i}, ignore_index=True)"
   ]
  },
  {
   "cell_type": "code",
   "execution_count": null,
   "id": "3a5b4785-b108-4986-a973-70db1f07d65f",
   "metadata": {},
   "outputs": [],
   "source": [
    "resultsDf_6.sort_values(by=['Test MAPE'],ascending=True)"
   ]
  },
  {
   "cell_type": "code",
   "execution_count": null,
   "id": "47d160e7-038d-4afa-945b-7bb7b3033816",
   "metadata": {},
   "outputs": [],
   "source": [
    "## Plotting on both the Training and Test data\n",
    "\n",
    "plt.figure(figsize=(18,9))\n",
    "plt.plot(Simple_Exponential_Smoothing_train['price'], label='Train')\n",
    "plt.plot(Simple_Exponential_Smoothing_test['price'], label='Test')\n",
    "plt.plot(Simple_Exponential_Smoothing_test['predict'], label='Alpha = 1 Simple Exponential Smoothing predictions on Test Set')\n",
    "plt.plot(Simple_Exponential_Smoothing_test['predict', 0.3], label='Alpha = 0.3 Simple Exponential Smoothing predictions on Test Set')\n",
    "\n",
    "plt.legend(loc='best')\n",
    "plt.grid()\n",
    "plt.title('Alpha = 0.3 Simple Exponential Smoothing Forecast')\n",
    "copyright = \"\\u00A9\" + \" \" + str(datetime.today().year) + \" \" + \"JM Consulting\"\n",
    "plt.text(0.5, 0.5, copyright, alpha=0.3, fontsize=25, rotation=25, ha='center', va='center', transform=plt.gca().transAxes)\n",
    "plt.show()"
   ]
  },
  {
   "cell_type": "code",
   "execution_count": null,
   "id": "819fbc40-fdee-4f4f-931a-06242de63fd9",
   "metadata": {},
   "outputs": [],
   "source": [
    "resultsDf_6_1 = pd.DataFrame({'Test MAPE (%)': [resultsDf_6.sort_values(by=['Test MAPE'],ascending=True).values[0][2]]}\n",
    "                           ,index=['Alpha=0.3, Simple Exponential Smoothing'])\n",
    "\n",
    "results = pd.concat([results, resultsDf_6_1])\n",
    "results"
   ]
  },
  {
   "cell_type": "markdown",
   "id": "b0266d56-be40-4691-b8de-4d881a95f2a5",
   "metadata": {},
   "source": [
    "#### DOUBLE EXPONENTIAL SMOOTHING"
   ]
  },
  {
   "cell_type": "code",
   "execution_count": null,
   "id": "3910ba2a-f3b3-4160-a05d-582cddde5cd5",
   "metadata": {},
   "outputs": [],
   "source": [
    "Double_Exponential_Smoothing_train = train.copy()\n",
    "Double_Exponential_Smoothing_test = test.copy()\n",
    "\n",
    "model_Double_Exponential_Smoothing = Holt(Double_Exponential_Smoothing_train['price'])\n",
    "\n",
    "resultsDf_7 = pd.DataFrame({'Alpha Values':[],'Beta Values':[],'Train MAPE':[],'Test MAPE': []})\n",
    "\n",
    "for i in np.arange(0.3,1.1,0.1):\n",
    "    for j in np.arange(0.3,1.1,0.1):\n",
    "        model_Double_Exponential_Smoothing_alpha_i_j = model_Double_Exponential_Smoothing.fit(smoothing_level=i,smoothing_trend=j,optimized=False,use_brute=True)\n",
    "        Double_Exponential_Smoothing_train['predict',i,j] = model_Double_Exponential_Smoothing_alpha_i_j.fittedvalues\n",
    "        Double_Exponential_Smoothing_test['predict',i,j] = model_Double_Exponential_Smoothing_alpha_i_j.forecast(steps=55)\n",
    "        \n",
    "        mape_Double_Exponential_Smoothing_train = mape(Double_Exponential_Smoothing_train['price'].values,Double_Exponential_Smoothing_train['predict',i,j].values)\n",
    "        \n",
    "        mape_Double_Exponential_Smoothing_test = mape(Double_Exponential_Smoothing_test['price'].values,Double_Exponential_Smoothing_test['predict',i,j].values)\n",
    "\n",
    "        resultsDf_7 = pd.DataFrame({'Alpha Values':[i],'Beta Values':[j],'Train MAPE':[mape_Double_Exponential_Smoothing_train]\n",
    "                                          ,'Test MAPE':[mape_Double_Exponential_Smoothing_test]}) \n",
    "        #resultsDf_7 = resultsDf_7.append({'Alpha Values':i,'Beta Values':j,'Train MAPE':mape_Double_Exponential_Smoothing_train\n",
    "         #                                 ,'Test MAPE':mape_Double_Exponential_Smoothing_test}, ignore_index=True)\n",
    "\n",
    "resultsDf_7.sort_values(by=['Test MAPE']).head()"
   ]
  },
  {
   "cell_type": "code",
   "execution_count": null,
   "id": "d940041e-b604-4837-a005-ecccd22e600a",
   "metadata": {},
   "outputs": [],
   "source": [
    "## Plotting on both the Training and Test data\n",
    "\n",
    "plt.figure(figsize=(18,9))\n",
    "plt.plot(Double_Exponential_Smoothing_train['price'], label='Train')\n",
    "plt.plot(Double_Exponential_Smoothing_test['price'], label='Test')\n",
    "\n",
    "plt.plot(Double_Exponential_Smoothing_test['predict', 0.3, 0.3], label='Alpha=0.3, Beta=0.3, Double Exponential Smoothing predictions on Test Set')\n",
    "\n",
    "\n",
    "plt.legend(loc='best')\n",
    "plt.grid()\n",
    "plt.title('Alpha = 0.3, Beta=0.3, Double Exponential Smoothing Forecast')\n",
    "copyright = \"\\u00A9\" + \" \" + str(datetime.today().year) + \" \" + \"JM Consulting\"\n",
    "plt.text(0.5, 0.5, copyright, alpha=0.3, fontsize=25, rotation=25, ha='center', va='center', transform=plt.gca().transAxes)\n",
    "plt.show()"
   ]
  },
  {
   "cell_type": "code",
   "execution_count": null,
   "id": "7f86c4fe-dd57-494c-8e67-ec4c78b5df9c",
   "metadata": {},
   "outputs": [],
   "source": [
    "resultsDf_7_1 = pd.DataFrame({'Test MAPE (%)': [resultsDf_7.sort_values(by=['Test MAPE']).values[0][3]]}\n",
    "                           ,index=['Alpha=0.3, Beta=0.3, Double Exponential Smoothing'])\n",
    "\n",
    "results = pd.concat([results, resultsDf_7_1])\n",
    "results"
   ]
  },
  {
   "cell_type": "markdown",
   "id": "d704cd03-db9c-48b6-9ae6-5a56b8e4165f",
   "metadata": {},
   "source": [
    "#### TRIPLE SMOOTHING"
   ]
  },
  {
   "cell_type": "code",
   "execution_count": null,
   "id": "ac45c9c0-f5e3-4f31-b715-5ab508fcb147",
   "metadata": {},
   "outputs": [],
   "source": [
    "Triple_Exponential_Smoothing_train = train.copy()\n",
    "Triple_Exponential_Smoothing_test = test.copy()\n",
    "\n",
    "model_Triple_Exponential_Smoothing = ExponentialSmoothing(Triple_Exponential_Smoothing_train['price'],trend='additive',freq='Y')\n",
    "model_Triple_Exponential_Smoothing_autofit = model_Triple_Exponential_Smoothing.fit()\n",
    "\n",
    "model_Triple_Exponential_Smoothing_autofit.params"
   ]
  },
  {
   "cell_type": "code",
   "execution_count": null,
   "id": "4a0930e5-d49d-4ff6-a12c-9c91fb1caab4",
   "metadata": {},
   "outputs": [],
   "source": [
    "## Prediction on the test data\n",
    "\n",
    "Triple_Exponential_Smoothing_test['auto_predict'] = model_Triple_Exponential_Smoothing_autofit.forecast(steps=len(test))\n",
    "Triple_Exponential_Smoothing_test.head()"
   ]
  },
  {
   "cell_type": "code",
   "execution_count": null,
   "id": "764b6f2a-c0ab-4f21-af07-365e1403ac42",
   "metadata": {},
   "outputs": [],
   "source": [
    "## Plotting on both the Training and Test using autofit\n",
    "\n",
    "plt.figure(figsize=(18,9))\n",
    "plt.plot(Triple_Exponential_Smoothing_train['price'], label='Train')\n",
    "plt.plot(Triple_Exponential_Smoothing_test['price'], label='Test')\n",
    "\n",
    "plt.plot(Triple_Exponential_Smoothing_test['auto_predict'], label='Alpha=0.99, Beta=0.05, Gamma=0.001, Triple Exponential Smoothing predictions on Test Set')\n",
    "\n",
    "plt.legend(loc='best')\n",
    "plt.grid()\n",
    "plt.title('Alpha = 0.99 Beta=0.05, Gamma=0.001 Triple Exponential Smoothing Forecast')\n",
    "copyright = \"\\u00A9\" + \" \" + str(datetime.today().year) + \" \" + \"JM Consulting\"\n",
    "plt.text(0.5, 0.5, copyright, alpha=0.3, fontsize=25, rotation=25, ha='center', va='center', transform=plt.gca().transAxes)\n",
    "plt.show()"
   ]
  },
  {
   "cell_type": "code",
   "execution_count": null,
   "id": "793fe6ff-01b4-4751-a431-16d37b0951b3",
   "metadata": {},
   "outputs": [],
   "source": [
    "## Test Data\n",
    "\n",
    "mape_Triple_Exponential_Smoothing_test_1 = mape(Triple_Exponential_Smoothing_test['price'].values, Triple_Exponential_Smoothing_test['auto_predict'].values)\n",
    "print(\"For A=0.99,B=0.05,G=0.001, Triple Exponential Smoothing Model forecast on the Test Data,  MAPE is %3.3f\" %(mape_Triple_Exponential_Smoothing_test_1),\"%\")"
   ]
  },
  {
   "cell_type": "code",
   "execution_count": null,
   "id": "1dc58383-f09e-48b9-864c-eb5b49b8d97d",
   "metadata": {},
   "outputs": [],
   "source": [
    "resultsDf_8_1 = pd.DataFrame({'Test MAPE (%)': [mape_Triple_Exponential_Smoothing_test_1]}\n",
    "                           ,index=['Alpha=0.99, Beta=0.05, Gamma=0.001, Triple Exponential Smoothing'])\n",
    "\n",
    "results = pd.concat([results, resultsDf_8_1])\n",
    "results"
   ]
  },
  {
   "cell_type": "code",
   "execution_count": null,
   "id": "d0503acc-54e0-4f73-aa62-8281e30694f8",
   "metadata": {},
   "outputs": [],
   "source": [
    "## First we will define an empty dataframe to store our values from the loop\n",
    "\n",
    "resultsDf_8_2 = pd.DataFrame({'Alpha Values':[],'Beta Values':[],'Gamma Values':[],'Train MAPE':[],'Test MAPE': []})\n",
    "resultsDf_8_2"
   ]
  },
  {
   "cell_type": "code",
   "execution_count": null,
   "id": "8cf9b687-a642-40a7-a0ed-f19b51c091fd",
   "metadata": {
    "scrolled": true
   },
   "outputs": [],
   "source": [
    "for i in np.arange(0.3,1.1,0.1):\n",
    "    for j in np.arange(0.3,1.1,0.1):\n",
    "        for k in np.arange(0.3,1.1,0.1):\n",
    "            model_Triple_Exponential_Smoothing_alpha_i_j_k = model_Triple_Exponential_Smoothing.fit(smoothing_level=i,smoothing_trend=j,smoothing_seasonal=k,optimized=False,use_brute=True)\n",
    "            Triple_Exponential_Smoothing_train['predict',i,j,k] = model_Triple_Exponential_Smoothing_alpha_i_j_k.fittedvalues\n",
    "            Triple_Exponential_Smoothing_test['predict',i,j,k] = model_Triple_Exponential_Smoothing_alpha_i_j_k.forecast(steps=55)\n",
    "        \n",
    "            mape_model_Triple_Exponential_Smoothing_train = mape(Triple_Exponential_Smoothing_train['price'].values,Triple_Exponential_Smoothing_train['predict',i,j,k].values)\n",
    "            \n",
    "            mape_model_Triple_Exponential_Smoothing_test = mape(Triple_Exponential_Smoothing_test['price'].values,Triple_Exponential_Smoothing_test['predict',i,j,k].values)\n",
    "\n",
    "            resultsDf_8_2 = pd.DataFrame({'Alpha Values':[i],'Beta Values':[j],'Gamma Values':[k],\n",
    "                                                  'Train MAPE':[mape_model_Triple_Exponential_Smoothing_train],'Test MAPE':[mape_model_Triple_Exponential_Smoothing_test]})\n",
    "            \n",
    "            #resultsDf_8_2 = resultsDf_8_2.append({'Alpha Values':i,'Beta Values':j,'Gamma Values':k,\n",
    "             #                                     'Train MAPE':mape_model_Triple_Exponential_Smoothing_train,'Test MAPE':mape_model_Triple_Exponential_Smoothing_test}"
   ]
  },
  {
   "cell_type": "code",
   "execution_count": null,
   "id": "83ab5d87-15ec-434e-923a-ef49a72d1862",
   "metadata": {},
   "outputs": [],
   "source": [
    "resultsDf_8_2.sort_values(by=['Test MAPE']).head()"
   ]
  },
  {
   "cell_type": "code",
   "execution_count": null,
   "id": "2e1391b1-e4b9-4d31-aa0d-19bc7b3f8014",
   "metadata": {},
   "outputs": [],
   "source": [
    "model_Triple_Exponential_Smoothing_alpha_best = model_Triple_Exponential_Smoothing.fit(smoothing_level=0.4,\n",
    "                                      smoothing_trend=0.3,\n",
    "                                      smoothing_seasonal=0.6,\n",
    "                                      optimized=False,\n",
    "                                      use_brute=True)\n",
    "Triple_Exponential_Smoothing_train['predict',0.4,0.3,0.6] = model_Triple_Exponential_Smoothing_alpha_best.fittedvalues\n",
    "Triple_Exponential_Smoothing_test['predict',0.4,0.3,0.6] = model_Triple_Exponential_Smoothing_alpha_best.forecast(steps=55)"
   ]
  },
  {
   "cell_type": "code",
   "execution_count": null,
   "id": "f28575a3-4a50-4e0d-ae6d-92a38da2af42",
   "metadata": {},
   "outputs": [],
   "source": [
    "## Plotting on both the Training and Test data using brute force alpha, beta and gamma determination\n",
    "\n",
    "plt.figure(figsize=(18,9))\n",
    "plt.plot(Triple_Exponential_Smoothing_train['price'], label='Train')\n",
    "plt.plot(Triple_Exponential_Smoothing_test['price'], label='Test')\n",
    "\n",
    "#The value of alpha and beta is taken like that by python\n",
    "plt.plot(Triple_Exponential_Smoothing_test['predict', 0.4, 0.3, 0.6], label='Alpha=0.4, Beta=0.3, Gamma=0.6, Triple Exponential Smoothing predictions on Test Set')\n",
    "\n",
    "\n",
    "plt.legend(loc='best')\n",
    "plt.grid()\n",
    "plt.title('Alpha = 0.4 Beta=0.3, Gamma=0.6 Triple Exponential Smoothing Forecast')\n",
    "copyright = \"\\u00A9\" + \" \" + str(datetime.today().year) + \" \" + \"JM Consulting\"\n",
    "plt.text(0.5, 0.5, copyright, alpha=0.3, fontsize=25, rotation=25, ha='center', va='center', transform=plt.gca().transAxes)\n",
    "plt.show()"
   ]
  },
  {
   "cell_type": "code",
   "execution_count": null,
   "id": "f6ce5503-c499-4329-a33b-4b789482cde8",
   "metadata": {},
   "outputs": [],
   "source": [
    "## Test Data\n",
    "\n",
    "mape_Triple_Exponential_Smoothing_test = mape(Triple_Exponential_Smoothing_test['price'].values,Triple_Exponential_Smoothing_test['predict',0.4,0.3,0.6].values)\n",
    "print(\"For A=0.4,B=0.3,G=0.6, Triple Exponential Smoothing Model forecast on the Test Data,  MAPE is %3.3f\" %(mape_Triple_Exponential_Smoothing_test),\"%\")"
   ]
  },
  {
   "cell_type": "code",
   "execution_count": null,
   "id": "15ceac6d-85d5-4da9-b074-7c341fd1b895",
   "metadata": {},
   "outputs": [],
   "source": [
    "resultsDf_9_1 = pd.DataFrame({'Test MAPE (%)': [mape_Triple_Exponential_Smoothing_test]}\n",
    "                           ,index=['Alpha=0.4, Beta=0.3, Gamma=0.6, Triple Exponential Smoothing'])\n",
    "\n",
    "results = pd.concat([results, resultsDf_9_1])\n",
    "results"
   ]
  },
  {
   "cell_type": "markdown",
   "id": "57a91c89-ba83-4516-b470-19a95bcad99a",
   "metadata": {},
   "source": [
    "#### EXPONENTIAL SMOOTHING MODEL @ Alpha=0.4, Beta=03 and Gamma=0.6"
   ]
  },
  {
   "cell_type": "code",
   "execution_count": null,
   "id": "12b7a16b-ce6c-4bd2-af83-a8ccd6c20c99",
   "metadata": {},
   "outputs": [],
   "source": [
    "Triple_Exponential_Smoothing_model =  ExponentialSmoothing(df, trend='additive')\n",
    "\n",
    "Triple_Exponential_Smoothing_autofit = Triple_Exponential_Smoothing_model.fit(smoothing_level=0.4, smoothing_trend=0.3, smoothing_seasonal=0.6)\n",
    "\n",
    "\n",
    "Triple_Exponential_Smoothing_autofit.params"
   ]
  },
  {
   "cell_type": "code",
   "execution_count": null,
   "id": "2ecd95e4-60bc-4ab5-aebd-6fc533ae2ad6",
   "metadata": {},
   "outputs": [],
   "source": [
    "MAPE_Triple_Exponential_Smoothing_model = mape(df['price'].values,Triple_Exponential_Smoothing_autofit.fittedvalues)\n",
    "\n",
    "print('MAPE:',MAPE_Triple_Exponential_Smoothing_model)"
   ]
  },
  {
   "cell_type": "code",
   "execution_count": null,
   "id": "134a0d1f-7f82-4374-91e3-eaf4bb2d12c4",
   "metadata": {},
   "outputs": [],
   "source": [
    "# Getting the predictions for the same number of times stamps that are present in the test data\n",
    "prediction = Triple_Exponential_Smoothing_autofit.forecast(steps=len(test))"
   ]
  },
  {
   "cell_type": "code",
   "execution_count": null,
   "id": "d88535fb-e184-4253-a176-1074fce3ede7",
   "metadata": {},
   "outputs": [],
   "source": [
    "# Compute 95% confidence interval for predicted values\n",
    "pred_df = pd.DataFrame({'lower_CI':prediction - 1.96*np.std(Triple_Exponential_Smoothing_autofit.resid,ddof=1),\n",
    "                        'prediction':prediction,\n",
    "                        'upper_CI': prediction + 1.96*np.std(Triple_Exponential_Smoothing_autofit.resid,ddof=1)})\n",
    "pred_df.head()"
   ]
  },
  {
   "cell_type": "code",
   "execution_count": null,
   "id": "38742fd5-7b24-4135-b34f-d071dba0ac82",
   "metadata": {},
   "outputs": [],
   "source": [
    "# plot the forecast along with the confidence band\n",
    "\n",
    "axis = df.plot(label='Actual', figsize=(15,8))\n",
    "pred_df['prediction'].plot(ax=axis, label='Forecast', alpha=0.5)\n",
    "axis.fill_between(pred_df.index, pred_df['lower_CI'], pred_df['upper_CI'], color='k', alpha=.15)\n",
    "axis.set_xlabel('Year-Months')\n",
    "axis.set_ylabel('price')\n",
    "plt.legend(loc='best')\n",
    "copyright = \"\\u00A9\" + \" \" + str(datetime.today().year) + \" \" + \"JM Consulting\"\n",
    "plt.text(0.5, 0.5, copyright, alpha=0.3, fontsize=25, rotation=25, ha='center', va='center', transform=plt.gca().transAxes)\n",
    "plt.show()"
   ]
  },
  {
   "cell_type": "markdown",
   "id": "e94f0cf4-f7d5-4394-8f7a-ac0f0899f267",
   "metadata": {},
   "source": [
    "#### ARIMA MODEL"
   ]
  },
  {
   "cell_type": "code",
   "execution_count": null,
   "id": "62297754-a1d2-4edf-9a2a-4dc0da55ab4b",
   "metadata": {},
   "outputs": [],
   "source": [
    "#ARIMA MODEL\n",
    "model = ARIMA(df[\"price\"], order=(0, 1, 1)) \n",
    "results_ARIMA = model.fit()\n",
    "\n",
    "summary = results_ARIMA.summary()\n",
    "print(summary)\n",
    "\n",
    "fig, ax = plt.subplots()\n",
    "ax = df['price'].plot(ax=ax)\n",
    "plot_predict(results_ARIMA, ax=ax)\n",
    "plt.title(\"ARIIMA Model Actual VS Forecast\")\n",
    "copyright = \"\\u00A9\" + \" \" + str(datetime.today().year) + \" \" + \"JM Consulting\"\n",
    "plt.text(0.5, 0.5, copyright, alpha=0.3, fontsize=15, rotation=0, ha='center', va='center', transform=plt.gca().transAxes)\n",
    "plt.show()"
   ]
  },
  {
   "cell_type": "markdown",
   "id": "8a25ddec-db09-42c3-ae13-af3494d94639",
   "metadata": {},
   "source": [
    "#### MODEL DIAGNOSTICS"
   ]
  },
  {
   "cell_type": "code",
   "execution_count": null,
   "id": "1d7e67d0-e1c1-4c22-9e9d-babeda9efe29",
   "metadata": {},
   "outputs": [],
   "source": [
    "# plot residual errors\n",
    "residuals = results_ARIMA.resid\n",
    "residuals.plot()\n",
    "residuals.plot(kind='kde')\n",
    "plt.title(\"ARIMA Residual errors\")\n",
    "copyright = \"\\u00A9\" + \" \" + str(datetime.today().year) + \" \" + \"JM Consulting\"\n",
    "plt.text(0.5, 0.5, copyright, alpha=0.3, fontsize=15, rotation=0, ha='center', va='center', transform=plt.gca().transAxes)\n",
    "plt.show()"
   ]
  },
  {
   "cell_type": "code",
   "execution_count": null,
   "id": "7c69138f-2d67-49ee-8670-e32ff84c3cab",
   "metadata": {},
   "outputs": [],
   "source": [
    "# EVAULATE THE MODEL\n",
    "print(\"\\n\" + \"---------------------------AIC and BIC---------------------------\")\n",
    "print(f\"AIC: {results_ARIMA.aic}\")\n",
    "print(f\"BIC: {results_ARIMA.bic}\")\n",
    "print(\"\\n\" + \"-----------------------------------------------------------------\")"
   ]
  },
  {
   "cell_type": "code",
   "execution_count": null,
   "id": "7ebd4e6f-8157-442c-9326-d95d7178d77d",
   "metadata": {},
   "outputs": [],
   "source": [
    "#FORECAST\n",
    "arima_train_data = train.copy()\n",
    "arima_test_data = test.copy()\n",
    "\n",
    "# Fit the model to training data. Replace p, d, q with our ARIMA parameters\n",
    "model = ARIMA(arima_train_data, order=(0, 1, 1))  \n",
    "result = model.fit()\n",
    "\n",
    "## Forecast\n",
    "forecast = result.forecast(steps=len(arima_test_data))\n",
    "\n",
    "\n",
    "#forecast = results_ARIMA.forecast(3)\n",
    "print(\"\\n\" + \"---------------------------FIITED ARIMA MODEL NEXT FORECAST RESULT---------------------------\")\n",
    "print(forecast)\n",
    "print(\"----------------------------------------------------------------------------------------------------\")"
   ]
  },
  {
   "cell_type": "code",
   "execution_count": null,
   "id": "cd38d452-1e3b-4056-94b6-d39e902abaa9",
   "metadata": {},
   "outputs": [],
   "source": [
    "##Evaluate model statistics\n",
    "## Evaluate model performance on the test set\n",
    "rmse = mean_squared_error(arima_test_data, forecast, squared=False)\n",
    "print(f\"ARIMA ROOT MEAN SQAURED ERROR: {rmse}\")"
   ]
  },
  {
   "cell_type": "code",
   "execution_count": null,
   "id": "075780c3-a544-47b7-aee0-6c82f3966ac2",
   "metadata": {},
   "outputs": [],
   "source": [
    "# Visualize our time series\n",
    "plt.figure(figsize=(18,9))\n",
    "plt.plot(arima_train_data, label='Train', color='blue')\n",
    "plt.plot(arima_test_data, label='Test', color='green')\n",
    "plt.plot(forecast, label='Forecast', color='red')\n",
    "\n",
    "plt.legend(loc='best')\n",
    "plt.grid()\n",
    "plt.title('ARIMA Forecast vs Actual')\n",
    "copyright = \"\\u00A9\" + \" \" + str(datetime.today().year) + \" \" + \"JM Consulting\"\n",
    "plt.text(0.5, 0.5, copyright, alpha=0.3, fontsize=25, rotation=25, ha='center', va='center', transform=plt.gca().transAxes)\n",
    "plt.show()\n",
    "\n",
    "\n",
    "# plot predictions and actual values \n",
    "#arima_train_data.plot(legend = True) \n",
    "#arima_test_data.plot(legend = True) \n",
    "#forecast.plot(legend = True) "
   ]
  },
  {
   "cell_type": "markdown",
   "id": "9ff72e26-a3d8-4e05-8a08-7a5b5dd89caf",
   "metadata": {},
   "source": [
    "#### USE AUTO ARIMA"
   ]
  },
  {
   "cell_type": "code",
   "execution_count": null,
   "id": "13de988b-a388-4b50-84aa-aafaee6360c8",
   "metadata": {},
   "outputs": [],
   "source": [
    "# Fit auto_arima function to AirPassengers dataset \n",
    "stepwise_fit = auto_arima(df[\"price\"], start_p = 1, start_q = 1, \n",
    "                          max_p = 3, max_q = 3, m = 12, \n",
    "                          start_P = 0, seasonal = True, \n",
    "                          d = None, D = 1, trace = True, \n",
    "                          error_action ='ignore',   # we don't want to know if an order does not work \n",
    "                          suppress_warnings = True,  # we don't want convergence warnings \n",
    "                          stepwise = True)           # set to stepwise \n",
    "  \n",
    "# To print the summary \n",
    "stepwise_fit.summary()\n",
    "\n",
    "# Fit ARIMA Model to dataset\n",
    "# Split data into train / test sets \n",
    "auto_arima_train_data = train.copy()\n",
    "auto_arima_test_data = test.copy()\n",
    "\n",
    "\n",
    "# Fit a SARIMAX(0, 1, 1)x(2, 1, 1, 12) on the training set \n",
    "model = SARIMAX(auto_arima_train_data['price'], order = (0, 1, 1), seasonal_order =(2, 1, 1, 12)) \n",
    "\n",
    "result = model.fit() \n",
    "auto_arima_result = result.summary() \n",
    "print(auto_arima_result)"
   ]
  },
  {
   "cell_type": "code",
   "execution_count": null,
   "id": "11488917-36f3-454f-a2f4-08d3dacdedba",
   "metadata": {},
   "outputs": [],
   "source": [
    "#Predictions of ARIMA Model against the test set\n",
    "start = len(auto_arima_train_data) \n",
    "end = len(auto_arima_train_data) + len(auto_arima_test_data) - 1\n",
    "\n",
    "# Predictions against the test set \n",
    "predictions = result.predict(start, end, typ = 'levels').rename(\"Predictions\") \n",
    "\n",
    "# plot predictions and actual values \n",
    "predictions.plot(legend = True) \n",
    "df['price'].plot(legend = True) \n",
    "copyright = \"\\u00A9\" + \" \" + str(datetime.today().year) + \" \" + \"JM Consulting\"\n",
    "plt.text(0.5, 0.5, copyright, alpha=0.3, fontsize=25, rotation=25, ha='center', va='center', transform=plt.gca().transAxes)\n",
    "plt.show()"
   ]
  },
  {
   "cell_type": "code",
   "execution_count": null,
   "id": "568c48ab-6fc7-485b-829c-dc94dc719d5b",
   "metadata": {},
   "outputs": [],
   "source": [
    "#Evaluate the model using MSE and RMSE\n",
    "\n",
    "# Calculate root mean squared error \n",
    "Auto_Arima_RMSE = mean_squared_error(auto_arima_test_data, predictions, squared=False) \n",
    "print(f\"AUTO ARIMA ROOT MEAN SQAURED ERROR: {Auto_Arima_RMSE}\")\n",
    "\n",
    "# Calculate mean squared error \n",
    "Auto_ARIMA_mse = mean_squared_error(auto_arima_test_data, predictions) \n",
    "print(f\"AUTO ARIMA MEAN SQAURED ERROR: {Auto_ARIMA_mse}\")"
   ]
  },
  {
   "cell_type": "code",
   "execution_count": null,
   "id": "0836a9a2-5371-422d-9879-ab14b4dd63f1",
   "metadata": {},
   "outputs": [],
   "source": [
    "#Forecast using ARIMA Model\n",
    "# Train the model on the full dataset \n",
    "model = model = SARIMAX(df['price'], \n",
    "                        order = (0, 1, 1), \n",
    "                        seasonal_order =(2, 1, 1, 12)) \n",
    "result = model.fit() \n",
    "\n",
    "# Forecast for the next 3 years \n",
    "forecast = result.predict(start = len(df), \n",
    "                        end = (len(df)-1) + 3 * 12, \n",
    "                        typ = 'levels').rename('Forecast') \n",
    "\n",
    "# Plot the forecast values \n",
    "df['price'].plot(figsize = (12, 5), legend = True) \n",
    "forecast.plot(legend = True)\n",
    "copyright = \"\\u00A9\" + \" \" + str(datetime.today().year) + \" \" + \"JM Consulting\"\n",
    "plt.text(0.5, 0.5, copyright, alpha=0.3, fontsize=25, rotation=25, ha='center', va='center', transform=plt.gca().transAxes)\n",
    "plt.show()"
   ]
  },
  {
   "cell_type": "code",
   "execution_count": null,
   "id": "b8600867-e94d-45f2-bbbe-b04aba7f6df3",
   "metadata": {},
   "outputs": [],
   "source": []
  }
 ],
 "metadata": {
  "kernelspec": {
   "display_name": "Python 3",
   "language": "python",
   "name": "python3"
  },
  "language_info": {
   "codemirror_mode": {
    "name": "ipython",
    "version": 3
   },
   "file_extension": ".py",
   "mimetype": "text/x-python",
   "name": "python",
   "nbconvert_exporter": "python",
   "pygments_lexer": "ipython3",
   "version": "3.8.3"
  }
 },
 "nbformat": 4,
 "nbformat_minor": 5
}
